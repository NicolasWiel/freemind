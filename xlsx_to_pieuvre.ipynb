{
 "cells": [
  {
   "cell_type": "code",
   "execution_count": 1,
   "metadata": {},
   "outputs": [
    {
     "data": {
      "text/plain": [
       "['Sous-Prefectures.xlsx']"
      ]
     },
     "execution_count": 1,
     "metadata": {},
     "output_type": "execute_result"
    }
   ],
   "source": [
    "import pandas as pd\n",
    "import os\n",
    "import html\n",
    "rep=os.getcwd() \n",
    "files = [f for f in os.listdir(rep) if os.path.isfile(os.path.join(rep, f)) and (\".xls\" in f)]\n",
    "files"
   ]
  },
  {
   "cell_type": "code",
   "execution_count": 2,
   "metadata": {},
   "outputs": [],
   "source": [
    "def encoder(texte):\n",
    "    return html.escape(str(texte)).encode('ascii', 'xmlcharrefreplace').decode(\"utf-8\")"
   ]
  },
  {
   "cell_type": "code",
   "execution_count": 3,
   "metadata": {},
   "outputs": [],
   "source": [
    "def encoder_data(data):\n",
    "    data.drop_duplicates(inplace=True)\n",
    "    for titre in data.columns:\n",
    "        txt_encode=[]\n",
    "        for txt in data[titre]:\n",
    "            txt_encode.append(encoder(txt))\n",
    "        data[titre]=txt_encode\n",
    "    data=data.sort_values(by=data.columns.tolist())\n",
    "    data=data.reset_index(drop=True)\n",
    "    return data"
   ]
  },
  {
   "cell_type": "code",
   "execution_count": 4,
   "metadata": {},
   "outputs": [],
   "source": [
    "def data_to_mm(data,noeud_central,titre):\n",
    "    rang_ligne=[1]\n",
    "    for i in range(1,len(data)):\n",
    "        for j in range(len(data.columns)):\n",
    "            if data[data.columns[len(data.columns)-j-1]][i] != data[data.columns[len(data.columns)-j-1]][i-1]:\n",
    "                niveau=len(data.columns)-j\n",
    "        rang_ligne.append(niveau)\n",
    "    txt_mm=[noeud_central]\n",
    "    rang_mm=[0]\n",
    "    for i in range(len(data)):\n",
    "        for j in range((rang_ligne[i]),len(data.columns)+1):\n",
    "            #print(i,rang_ligne[i],j,data[data.columns[j-1]][i])\n",
    "            txt_mm.append(data[data.columns[j-1]][i])\n",
    "            rang_mm.append(j)\n",
    "    rang_mm.append(0)\n",
    "    rendu='<map version=\"0.9.0\"><!-- To view this file, download free mind mapping software FreeMind from http://freemind.sourceforge.net -->'\n",
    "    for i,txt in enumerate(txt_mm):\n",
    "        rendu = rendu + '<node><richcontent TYPE=\"NODE\"><html><head></head><body><p>'\n",
    "        rendu = rendu + txt\n",
    "        rendu = rendu + '</p></body></html></richcontent>'+'</node>'*(1-rang_mm[i+1]+rang_mm[i])\n",
    "    rendu = rendu + '</map>'\n",
    "    with open(titre+\".mm\", \"w\") as text_file:\n",
    "        text_file.write(rendu)\n",
    "    return rendu"
   ]
  },
  {
   "cell_type": "code",
   "execution_count": 5,
   "metadata": {},
   "outputs": [],
   "source": [
    "nom_du_fichier_excel='Sous-Prefectures.xlsx'\n",
    "onglet_du_fichier_excel='Feuil1'\n",
    "nombre_de_lignes_a_ignorer=0\n",
    "texte_du_noeud_central='France'\n",
    "nom_du_fichier_mm='Sous-Prefectures'\n",
    "\n",
    "data=pd.read_excel(nom_du_fichier_excel,header=nombre_de_lignes_a_ignorer,sheet_name=onglet_du_fichier_excel)\n",
    "data=encoder_data(data)\n",
    "data_mm = data_to_mm(data,texte_du_noeud_central,nom_du_fichier_mm)"
   ]
  },
  {
   "cell_type": "code",
   "execution_count": null,
   "metadata": {},
   "outputs": [],
   "source": []
  },
  {
   "cell_type": "code",
   "execution_count": null,
   "metadata": {},
   "outputs": [],
   "source": []
  }
 ],
 "metadata": {
  "kernelspec": {
   "display_name": "Python 3",
   "language": "python",
   "name": "python3"
  },
  "language_info": {
   "codemirror_mode": {
    "name": "ipython",
    "version": 3
   },
   "file_extension": ".py",
   "mimetype": "text/x-python",
   "name": "python",
   "nbconvert_exporter": "python",
   "pygments_lexer": "ipython3",
   "version": "3.7.8"
  }
 },
 "nbformat": 4,
 "nbformat_minor": 2
}
